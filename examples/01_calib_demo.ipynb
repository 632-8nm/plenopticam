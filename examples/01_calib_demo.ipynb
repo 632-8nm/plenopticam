{
 "cells": [
  {
   "cell_type": "markdown",
   "metadata": {},
   "source": [
    "# Calibration Demo \n",
    "\n",
    "This notebook demonstrates micro image centroid localization as part of a plenoptic camera calibration based on **[PlenoptiCam](https://github.com/hahnec/plenopticam)**."
   ]
  },
  {
   "cell_type": "markdown",
   "metadata": {},
   "source": [
    "## Package and import prerequisites"
   ]
  },
  {
   "cell_type": "code",
   "execution_count": null,
   "metadata": {
    "scrolled": true
   },
   "outputs": [],
   "source": [
    "import os, sys\n",
    "print('Python v'+sys.version+'\\n')\n",
    "\n",
    "try:\n",
    "    import plenopticam as pcam\n",
    "except ImportError:\n",
    "    !pip install plenopticam>=0.6.4\n",
    "    import plenopticam as pcam\n",
    "print('PlenoptiCam v'+pcam.__version__+'\\n')\n",
    "\n",
    "try:\n",
    "    import matplotlib.pyplot as plt\n",
    "except:\n",
    "    !pip install matplotlib --upgrade\n",
    "    import matplotlib.pyplot as plt\n",
    "    \n",
    "%matplotlib inline"
   ]
  },
  {
   "cell_type": "markdown",
   "metadata": {},
   "source": [
    "## Image data acquisition\n",
    "Available plenoptic photographs can be downloaded to the current folder ('./data') using the featured `DataDownloader` class, which is also used for extracting archived files."
   ]
  },
  {
   "cell_type": "code",
   "execution_count": null,
   "metadata": {},
   "outputs": [],
   "source": [
    "loader = pcam.misc.DataDownloader()\n",
    "loader.download_data(loader.opex_prep_url, fp='./data')\n",
    "loader.extract_archive(archive_fn='./data/OpEx_data_prepared.zip')"
   ]
  },
  {
   "cell_type": "markdown",
   "metadata": {},
   "source": [
    "## Configuration of *PlenoptiCam*\n",
    "\n",
    "Before running the process, configurations such as file paths need to be set, using the `PlenopticamConfig` class as follows"
   ]
  },
  {
   "cell_type": "code",
   "execution_count": null,
   "metadata": {},
   "outputs": [],
   "source": [
    "# instantiate config object and set image file paths and options\n",
    "cfg = pcam.cfg.PlenopticamConfig()\n",
    "cfg.default_values()\n",
    "cfg.params[cfg.cal_path] = './data/f197with4m11pxf16Final.bmp'\n",
    "cfg.params[cfg.opt_cali] = True\n",
    "cfg.params[cfg.cal_meth] = 'area'\n",
    "\n",
    "# instantiate status object to display processing progress\n",
    "sta = pcam.misc.PlenopticamStatus()"
   ]
  },
  {
   "cell_type": "markdown",
   "metadata": {},
   "source": [
    "## Reading a plenoptic photograph\n",
    "\n",
    "Image files of the following extenions ('bmp', 'png', 'jpg', 'jpeg') can be loaded using the `load_img_file` procedure which is part of the featured `misc` module."
   ]
  },
  {
   "cell_type": "code",
   "execution_count": null,
   "metadata": {},
   "outputs": [],
   "source": [
    "wht_img = pcam.misc.load_img_file(cfg.params[cfg.cal_path])"
   ]
  },
  {
   "cell_type": "code",
   "execution_count": null,
   "metadata": {},
   "outputs": [],
   "source": [
    "plt.figure()\n",
    "plt.imshow(wht_img, cmap='gray', interpolation='none')\n",
    "plt.grid(False)\n",
    "plt.title('White calibration image')\n",
    "plt.show()"
   ]
  },
  {
   "cell_type": "markdown",
   "metadata": {},
   "source": [
    "Now the image data is read and stored in the `wht_img` variable."
   ]
  },
  {
   "cell_type": "markdown",
   "metadata": {},
   "source": [
    "## Micro image calibration\n",
    "\n",
    "Once the white image is present, localization of micro image centroids $\\mathbf{c}_{j,h}$ is conducted with the `LfpCalibrator` class at an abstract level. Results can be inspected in the plots below."
   ]
  },
  {
   "cell_type": "code",
   "execution_count": null,
   "metadata": {},
   "outputs": [],
   "source": [
    "cal_obj = pcam.lfp_calibrator.LfpCalibrator(wht_img, cfg, sta)\n",
    "ret = cal_obj.main()\n",
    "cfg = cal_obj.cfg\n",
    "del cal_obj"
   ]
  },
  {
   "cell_type": "code",
   "execution_count": null,
   "metadata": {},
   "outputs": [],
   "source": [
    "ret = cfg.load_cal_data()\n",
    "y_coords = [row[0] for row in cfg.calibs[cfg.mic_list]]\n",
    "x_coords = [row[1] for row in cfg.calibs[cfg.mic_list]]\n",
    "\n",
    "s = 3\n",
    "h, w, c = wht_img.shape if len(wht_img.shape) == 3 else wht_img.shape + (1,)\n",
    "hp, wp = 50, 50\n",
    "fig, axs = plt.subplots(s, s, facecolor='w', edgecolor='k')\n",
    "\n",
    "for i in range(s):\n",
    "    for j in range(s):\n",
    "        # plot cropped image part\n",
    "        k = i * (h // s) + (h // s) // 2 - hp // 2\n",
    "        l = j * (w // s) + (w // s) // 2 - wp // 2\n",
    "        axs[i, j].imshow(wht_img[k:k+hp, l:l+wp, ...], cmap='gray')\n",
    "\n",
    "        # plot centroids in cropped area\n",
    "        coords_crop = [(y, x) for y, x in zip(y_coords, x_coords) \n",
    "                       if k <= y <= k+hp-.5 and l <= x <= l+wp-.5]\n",
    "        y_centroids = [row[0] - k for row in coords_crop]\n",
    "        x_centroids = [row[1] - l for row in coords_crop]\n",
    "        axs[i, j].plot(x_centroids, y_centroids, 'bx', \n",
    "                       markersize=4, label=r'Centroids $\\mathbf{c}_{j,h}$')\n",
    "        axs[i, j].grid(False)\n",
    "        axs[i, j].tick_params(top=False, bottom=True, left=True, right=False,\n",
    "                              labelleft=True, labelbottom=True)\n",
    "        axs[i, j].set_yticks(range(0, hp+1, hp//2))\n",
    "        axs[i, j].set_xticks(range(0, wp+1, wp//2))\n",
    "        axs[i, j].set_yticklabels([str(k), str(k+hp//2), str(k+hp)])\n",
    "        axs[i, j].set_xticklabels([str(l), str(l+wp//2), str(l+wp)])\n",
    "\n",
    "# set common labels\n",
    "fig.text(0.5, -0.05, 'Horizontal dimension [px]', ha='center', va='center', fontsize=14)\n",
    "fig.text(-0.01, 0.5, 'Vertical dimension [px]', ha='center', va='center', rotation='vertical', fontsize=14)\n",
    "\n",
    "fig.tight_layout()\n",
    "plt.legend(loc='upper right', bbox_to_anchor=(3, 3.85), fancybox=True, shadow=True)\n",
    "plt.show()"
   ]
  }
 ],
 "metadata": {
  "kernelspec": {
   "display_name": "Python 3",
   "language": "python",
   "name": "python3"
  },
  "language_info": {
   "codemirror_mode": {
    "name": "ipython",
    "version": 3
   },
   "file_extension": ".py",
   "mimetype": "text/x-python",
   "name": "python",
   "nbconvert_exporter": "python",
   "pygments_lexer": "ipython3",
   "version": "3.7.7"
  }
 },
 "nbformat": 4,
 "nbformat_minor": 4
}
