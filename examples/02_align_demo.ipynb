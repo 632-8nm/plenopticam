{
 "cells": [
  {
   "cell_type": "markdown",
   "metadata": {},
   "source": [
    "# Alignment Demo\n",
    "\n",
    "In this notebook the alignment of micro images is presented using pre-computed centroids from **[PlenoptiCam](https://github.com/hahnec/plenopticam)** similar to the procedure provided in [01_calib_demo.ipynb](./01_calib_demo.ipynb)."
   ]
  },
  {
   "cell_type": "markdown",
   "metadata": {},
   "source": [
    "## Package and import prerequisites"
   ]
  },
  {
   "cell_type": "code",
   "execution_count": null,
   "metadata": {},
   "outputs": [],
   "source": [
    "import sys, os\n",
    "print('Python v'+sys.version+'\\n')\n",
    "\n",
    "try:\n",
    "    import plenopticam as pcam\n",
    "except ImportError:\n",
    "    !pip install plenopticam>=0.6.4\n",
    "    import plenopticam as pcam\n",
    "print('PlenoptiCam v'+pcam.__version__+'\\n')\n",
    "\n",
    "try:\n",
    "    import matplotlib.pyplot as plt\n",
    "except:\n",
    "    !pip install matplotlib --upgrade\n",
    "    import matplotlib.pyplot as plt\n",
    "    \n",
    "%matplotlib inline"
   ]
  },
  {
   "cell_type": "markdown",
   "metadata": {},
   "source": [
    "## Image data acquisition\n",
    "Available plenoptic photographs can be downloaded to the current folder ('./data') using the featured `DataDownloader` class, which is also used for extracting archived files."
   ]
  },
  {
   "cell_type": "code",
   "execution_count": null,
   "metadata": {},
   "outputs": [],
   "source": [
    "loader = pcam.misc.DataDownloader()\n",
    "loader.download_data(loader.opex_prep_url, fp='./data')\n",
    "loader.extract_archive(archive_fn='./data/OpEx_data_prepared.zip')"
   ]
  },
  {
   "cell_type": "markdown",
   "metadata": {},
   "source": [
    "## Configuration of *PlenoptiCam*\n",
    "\n",
    "Before running the process, configurations such as file paths need to be set, using the `PlenopticamConfig` class as follows"
   ]
  },
  {
   "cell_type": "code",
   "execution_count": null,
   "metadata": {},
   "outputs": [],
   "source": [
    "# instantiate config object and set image file paths and options\n",
    "cfg = pcam.cfg.PlenopticamConfig()\n",
    "cfg.default_values()\n",
    "cfg.params[cfg.lfp_path] = './data/f197with4m11pxFinal.bmp'\n",
    "cfg.params[cfg.cal_meta] = './data/f197with4m11pxf16Final.json'\n",
    "cfg.params[cfg.ptc_leng] = 9\n",
    "\n",
    "# load calibration data\n",
    "cfg.load_cal_data()\n",
    "\n",
    "# instantiate status object to display processing progress\n",
    "sta = pcam.misc.PlenopticamStatus()"
   ]
  },
  {
   "cell_type": "markdown",
   "metadata": {},
   "source": [
    "## Reading a plenoptic photograph\n",
    "\n",
    "Image files of the following extenions ('bmp', 'png', 'jpg', 'jpeg') can be loaded using the `load_img_file` procedure which is part of the featured `misc` module."
   ]
  },
  {
   "cell_type": "code",
   "execution_count": null,
   "metadata": {},
   "outputs": [],
   "source": [
    "lfp_img = pcam.misc.load_img_file(cfg.params[cfg.lfp_path])\n",
    "\n",
    "plt.figure()\n",
    "plt.imshow(lfp_img, interpolation='none')\n",
    "plt.grid(False)\n",
    "plt.title('Raw plenoptic image')\n",
    "plt.show()"
   ]
  },
  {
   "cell_type": "markdown",
   "metadata": {},
   "source": [
    "Now the image data is read and stored in the `lfp_img` variable."
   ]
  },
  {
   "cell_type": "markdown",
   "metadata": {},
   "source": [
    "## Micro image alignment\n",
    "\n",
    "Once the plenoptic image is present, alignment of micro images is conducted with the `LfpResampler` class at an abstract level. Results can be inspected in the plots below."
   ]
  },
  {
   "cell_type": "code",
   "execution_count": null,
   "metadata": {},
   "outputs": [],
   "source": [
    "if cfg.lfpimg:\n",
    "    # hot pixel correction\n",
    "    obj = pcam.lfp_aligner.CfaOutliers(bay_img=lfp_img, cfg=cfg, sta=sta)\n",
    "    obj.rectify_candidates_bayer(n=9, sig_lev=2.5)\n",
    "    self._lfp_img = obj.bay_img\n",
    "    del obj\n",
    "\n",
    "if cfg.params[cfg.opt_vign] and wht_img is not None:\n",
    "    # apply de-vignetting\n",
    "    obj = pcam.lfp_aligner.LfpDevignetter(lfp_img=lfp_img, wht_img=wht_img, cfg=cfg, sta=sta)\n",
    "    obj.main()\n",
    "    lfp_img = obj.lfp_img\n",
    "    wht_img = obj.wht_img\n",
    "    del obj\n",
    "\n",
    "if cfg.lfpimg and len(lfp_img.shape) == 2:\n",
    "    # perform color filter array management and obtain rgb image\n",
    "    cfa_obj = pcam.lfp_aligner.CfaProcessor(bay_img=self._lfp_img, wht_img=self._wht_img, cfg=cfg, sta=sta)\n",
    "    cfa_obj.main()\n",
    "    self._lfp_img = cfa_obj.rgb_img\n",
    "    del cfa_obj\n",
    "\n",
    "if cfg.params[cfg.opt_rota] and lfp_img is not None:\n",
    "    # de-rotate centroids\n",
    "    obj = pcam.lfp_aligner.LfpRotator(lfp_img, cfg.calibs[cfg.mic_list], rad=None, cfg=cfg, sta=sta)\n",
    "    obj.main()\n",
    "    lfp_img, cfg.calibs[cfg.mic_list] = obj.lfp_img, obj.centroids\n",
    "    del obj\n",
    "\n",
    "# interpolate each micro image with its MIC as the center with consistent micro image size\n",
    "obj = pcam.lfp_aligner.LfpResampler(lfp_img=lfp_img, cfg=cfg, sta=sta, method='linear')\n",
    "obj.main()\n",
    "lfp_img_align = obj.lfp_out\n",
    "del obj"
   ]
  },
  {
   "cell_type": "code",
   "execution_count": null,
   "metadata": {},
   "outputs": [],
   "source": [
    "plt.figure()\n",
    "plt.imshow(lfp_img_align/lfp_img_align.max(), interpolation='none')\n",
    "plt.grid(False)\n",
    "plt.title('Aligned plenoptic image')\n",
    "plt.show()"
   ]
  },
  {
   "cell_type": "code",
   "execution_count": null,
   "metadata": {},
   "outputs": [],
   "source": []
  }
 ],
 "metadata": {
  "kernelspec": {
   "display_name": "Python 3",
   "language": "python",
   "name": "python3"
  },
  "language_info": {
   "codemirror_mode": {
    "name": "ipython",
    "version": 3
   },
   "file_extension": ".py",
   "mimetype": "text/x-python",
   "name": "python",
   "nbconvert_exporter": "python",
   "pygments_lexer": "ipython3",
   "version": "3.7.7"
  }
 },
 "nbformat": 4,
 "nbformat_minor": 4
}
