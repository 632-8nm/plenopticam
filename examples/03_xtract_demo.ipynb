{
 "cells": [
  {
   "cell_type": "markdown",
   "metadata": {},
   "source": [
    "# Extraction Demo \n",
    "\n",
    "With this notebook, light-field decomposition to Sub-Aperture Images (SAIs) and refocused image slices is presented given an aligned light-field in form of a pickle file rendered as shown in [02_align_demo.ipynb](./02_align_demo.ipynb) using **[PlenoptiCam](https://github.com/hahnec/plenopticam)**."
   ]
  },
  {
   "cell_type": "markdown",
   "metadata": {},
   "source": [
    "## Package and import prerequisites"
   ]
  },
  {
   "cell_type": "code",
   "execution_count": null,
   "metadata": {},
   "outputs": [],
   "source": [
    "import sys, os\n",
    "print('Python v'+sys.version+'\\n')\n",
    "\n",
    "try:\n",
    "    import plenopticam as pcam\n",
    "except ImportError:\n",
    "    !pip install plenopticam>=0.5.3\n",
    "    import plenopticam as pcam\n",
    "print('PlenoptiCam v'+pcam.__version__+'\\n')\n",
    "\n",
    "try:\n",
    "    import matplotlib.pyplot as plt\n",
    "except:\n",
    "    !pip install matplotlib --upgrade\n",
    "    import matplotlib.pyplot as plt\n",
    "    \n",
    "%matplotlib inline"
   ]
  },
  {
   "cell_type": "markdown",
   "metadata": {},
   "source": [
    "## Image data acquisition\n",
    "\n",
    "Available plenoptic photographs can be downloaded to the current folder ('./data'), using the featured `DataDownloader` class. This is also used for extracting archived files."
   ]
  },
  {
   "cell_type": "code",
   "execution_count": null,
   "metadata": {},
   "outputs": [],
   "source": [
    "loader = pcam.misc.DataDownloader()\n",
    "loader.download_data(loader.opex_url, fp='./data')\n",
    "fnames = loader.opex_fnames_wht + loader.opex_fnames_lfp\n",
    "loader.extract_archive(archive_fn='./data/5201452', fname_list=fnames)"
   ]
  },
  {
   "cell_type": "markdown",
   "metadata": {},
   "source": [
    "## Configuration of *PlenoptiCam*\n",
    "\n",
    "Before running the process, configurations such as file paths need to be set, using the `PlenopticamConfig` class as follows"
   ]
  },
  {
   "cell_type": "code",
   "execution_count": null,
   "metadata": {},
   "outputs": [],
   "source": [
    "# instantiate config object and set image file paths and options\n",
    "cfg = pcam.cfg.PlenopticamConfig()\n",
    "cfg.default_values()\n",
    "cfg.params[cfg.lfp_path] = './data/f197Inf9pxFinalShift12.7cm.bmp'\n",
    "cfg.params[cfg.cal_meta] = './data/f197Inf9pxFinalShift12.7cmf22.json'\n",
    "cfg.params[cfg.ptc_leng] = 11\n",
    "\n",
    "# load calibration data\n",
    "cfg.load_cal_data()\n",
    "\n",
    "# instantiate status object to display processing progress\n",
    "sta = pcam.misc.PlenopticamStatus()"
   ]
  },
  {
   "cell_type": "markdown",
   "metadata": {},
   "source": [
    "## Load aligned light-field"
   ]
  },
  {
   "cell_type": "code",
   "execution_count": null,
   "metadata": {},
   "outputs": [],
   "source": [
    "try:\n",
    "    import pickle\n",
    "    # load previously computed light field alignment\n",
    "    fp = os.path.join(cfg.exp_path, 'lfp_img_align.pkl')\n",
    "    lfp_img_align = pickle.load(open(fp, 'rb'))\n",
    "except EOFError:\n",
    "    os.remove(fp)"
   ]
  },
  {
   "cell_type": "markdown",
   "metadata": {},
   "source": [
    "## Sub-Aperture Image (SAI) extraction\n",
    "\n",
    "Rendering perspective views, known as SAIs, from an aligned light-field image `lfp_img_align` is accomplished by a series of classes in the `lfp_extractor` module. The resulting `vp_img_arr` is displayed in various ways further below."
   ]
  },
  {
   "cell_type": "code",
   "execution_count": null,
   "metadata": {},
   "outputs": [],
   "source": [
    "# micro image crop\n",
    "lfp_obj = pcam.lfp_extractor.LfpCropper(lfp_img_align=lfp_img_align, cfg=cfg, sta=sta)\n",
    "lfp_obj.main()\n",
    "lfp_img_align = lfp_obj.lfp_img_align\n",
    "\n",
    "# rearrange light-field to sub-aperture images\n",
    "if cfg.params[cfg.opt_view]:\n",
    "    lfp_obj = pcam.lfp_extractor.LfpRearranger(lfp_img_align, cfg=cfg, sta=sta)\n",
    "    lfp_obj.main()\n",
    "    vp_img_linear = lfp_obj.vp_img_arr\n",
    "\n",
    "# remove outliers if option is set\n",
    "if cfg.params[cfg.opt_lier]:\n",
    "    obj = pcam.lfp_extractor.LfpOutliers(vp_img_arr=vp_img_linear, cfg=cfg, sta=sta)\n",
    "    obj.main()\n",
    "    vp_img_linear = obj.vp_img_arr\n",
    "\n",
    "# color equalization\n",
    "if cfg.params[cfg.opt_colo]:\n",
    "    obj = pcam.lfp_extractor.LfpColorEqualizer(vp_img_arr=vp_img_linear, cfg=cfg, sta=sta)\n",
    "    obj.main()\n",
    "    vp_img_linear = obj.vp_img_arr\n",
    "\n",
    "# copy light-field for refocusing process prior to contrast alignment and export\n",
    "vp_img_arr = vp_img_linear.copy() if vp_img_linear is not None else None\n",
    "\n",
    "# color management automation\n",
    "obj = pcam.lfp_extractor.LfpContrast(vp_img_arr=vp_img_arr, cfg=cfg, sta=sta)\n",
    "obj.main()\n",
    "vp_img_arr = obj.vp_img_arr\n",
    "\n",
    "# reduction of hexagonal sampling artifacts\n",
    "if cfg.params[cfg.opt_arti]:\n",
    "    obj = pcam.lfp_extractor.HexCorrector(vp_img_arr=vp_img_arr, cfg=cfg, sta=sta)\n",
    "    obj.main()\n",
    "    vp_img_arr = obj.vp_img_arr\n",
    "\n",
    "# write viewpoint data to hard drive\n",
    "if cfg.params[cfg.opt_view]:\n",
    "    obj = pcam.lfp_extractor.LfpExporter(vp_img_arr=vp_img_arr, cfg=cfg, sta=sta)\n",
    "    obj.write_viewpoint_data()"
   ]
  },
  {
   "cell_type": "code",
   "execution_count": null,
   "metadata": {},
   "outputs": [],
   "source": [
    "view_obj = pcam.lfp_extractor.LfpViewpoints(vp_img_arr=vp_img_arr)\n",
    "vp_arr = view_obj.reorder_vp_arr(pattern='circle', lf_radius=3)\n",
    "\n",
    "plt.rcParams[\"animation.html\"] = \"jshtml\"\n",
    "from matplotlib import animation\n",
    "\n",
    "fig, ax = plt.subplots()\n",
    "l = ax.imshow(vp_arr[0])\n",
    "animate = lambda i: l.set_data(vp_arr[i])\n",
    "anim = animation.FuncAnimation(fig, animate, frames=len(vp_arr), interval=50)\n",
    "plt.close() # get rid of initial figure\n",
    "\n",
    "anim"
   ]
  },
  {
   "cell_type": "markdown",
   "metadata": {},
   "source": [
    "## Computational change of focus\n",
    "\n",
    "The light-field's well known synthetic focus capability is managed by the `LfpRefocuser` class with exemplary parameter setting $a=[0,2]$ in the `cfg.params` dictionary and key `cfg.ran_refo` controling the refocused range."
   ]
  },
  {
   "cell_type": "code",
   "execution_count": null,
   "metadata": {},
   "outputs": [],
   "source": [
    "# set refocus range $a$\n",
    "cfg.params[cfg.ran_refo] = [0, 2]\n",
    "# skip status messages\n",
    "cfg.params[cfg.opt_prnt] = False\n",
    "\n",
    "refocuser = pcam.lfp_refocuser.LfpRefocuser(vp_img_arr=vp_img_linear, cfg=cfg)\n",
    "refocuser.main()\n",
    "refo_stack = refocuser.refo_stack\n",
    "\n",
    "plt.rcParams[\"animation.html\"] = \"jshtml\"\n",
    "from matplotlib import animation\n",
    "\n",
    "fig, ax = plt.subplots()\n",
    "l = ax.imshow(refo_stack[0])\n",
    "animate = lambda i: l.set_data(refo_stack[i])\n",
    "anim = animation.FuncAnimation(fig, animate, frames=len(refo_stack), interval=1000)\n",
    "plt.close() # get rid of initial figure\n",
    "\n",
    "anim"
   ]
  },
  {
   "cell_type": "code",
   "execution_count": null,
   "metadata": {},
   "outputs": [],
   "source": []
  }
 ],
 "metadata": {
  "kernelspec": {
   "display_name": "Python 3",
   "language": "python",
   "name": "python3"
  },
  "language_info": {
   "codemirror_mode": {
    "name": "ipython",
    "version": 3
   },
   "file_extension": ".py",
   "mimetype": "text/x-python",
   "name": "python",
   "nbconvert_exporter": "python",
   "pygments_lexer": "ipython3",
   "version": "3.7.7"
  }
 },
 "nbformat": 4,
 "nbformat_minor": 4
}
